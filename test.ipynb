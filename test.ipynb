{
 "cells": [
  {
   "cell_type": "markdown",
   "metadata": {},
   "source": [
    "### GRL.py"
   ]
  },
  {
   "cell_type": "code",
   "execution_count": 4,
   "metadata": {},
   "outputs": [],
   "source": [
    "import torch\n",
    "from GRL import ReverseLayerF"
   ]
  },
  {
   "cell_type": "code",
   "execution_count": 23,
   "metadata": {},
   "outputs": [
    {
     "data": {
      "text/plain": [
       "tensor([3, 4, 5])"
      ]
     },
     "execution_count": 23,
     "metadata": {},
     "output_type": "execute_result"
    }
   ],
   "source": [
    "feature = torch.rand(3, dtype=torch.float32, requires_grad=True)\n",
    "x = torch.arange(3, 6)\n",
    "x"
   ]
  },
  {
   "cell_type": "code",
   "execution_count": 24,
   "metadata": {},
   "outputs": [
    {
     "data": {
      "text/plain": [
       "tensor([0.4069, 0.8363, 0.9379], grad_fn=<ReverseLayerFBackward>)"
      ]
     },
     "execution_count": 24,
     "metadata": {},
     "output_type": "execute_result"
    }
   ],
   "source": [
    "# at the propogation stage, we just use an identical mapping.\n",
    "# NOTED that you can set the alpha to adjust your need.\n",
    "feature_rev = ReverseLayerF.apply(feature, 1)\n",
    "feature_rev"
   ]
  },
  {
   "cell_type": "code",
   "execution_count": 25,
   "metadata": {},
   "outputs": [
    {
     "data": {
      "text/plain": [
       "tensor([-3., -4., -5.])"
      ]
     },
     "execution_count": 25,
     "metadata": {},
     "output_type": "execute_result"
    }
   ],
   "source": [
    "# clear all the grad\n",
    "feature.grad = torch.zeros(feature.shape)\n",
    "\n",
    "loss = feature_rev * x - 8\n",
    "loss_sum = torch.sum(loss)\n",
    "\n",
    "# at the back-prop stage, an GRL is set to reversal the grad.\n",
    "loss_sum.backward()\n",
    "feature.grad"
   ]
  },
  {
   "cell_type": "markdown",
   "metadata": {},
   "source": [
    "### 父类和子类的构造函数调用问题"
   ]
  },
  {
   "cell_type": "code",
   "execution_count": 3,
   "metadata": {},
   "outputs": [
    {
     "name": "stdout",
     "output_type": "stream",
     "text": [
      "Child construct function called\n"
     ]
    },
    {
     "data": {
      "text/plain": [
       "<__main__.Child1 at 0x27b59a96dc0>"
      ]
     },
     "execution_count": 3,
     "metadata": {},
     "output_type": "execute_result"
    }
   ],
   "source": [
    "class Parent:\n",
    "    def __init__(self):\n",
    "        print(\"Parent construct function called\")\n",
    "        self.name = \"parent\"\n",
    "\n",
    "class Child1(Parent):\n",
    "    def __init__(self):\n",
    "        print(\"Child construct function called\")\n",
    "\n",
    "Child1()"
   ]
  },
  {
   "cell_type": "code",
   "execution_count": 4,
   "metadata": {},
   "outputs": [
    {
     "name": "stdout",
     "output_type": "stream",
     "text": [
      "Parent construct function called\n",
      "Child construct function called\n"
     ]
    },
    {
     "data": {
      "text/plain": [
       "<__main__.Child2 at 0x27b57d06970>"
      ]
     },
     "execution_count": 4,
     "metadata": {},
     "output_type": "execute_result"
    }
   ],
   "source": [
    "class Child2(Parent):\n",
    "    def __init__(self):\n",
    "        # 显式调用\n",
    "        super().__init__()\n",
    "        print(\"Child construct function called\")\n",
    "\n",
    "Child2()"
   ]
  }
 ],
 "metadata": {
  "kernelspec": {
   "display_name": "Python 3.9.5 64-bit",
   "language": "python",
   "name": "python3"
  },
  "language_info": {
   "codemirror_mode": {
    "name": "ipython",
    "version": 3
   },
   "file_extension": ".py",
   "mimetype": "text/x-python",
   "name": "python",
   "nbconvert_exporter": "python",
   "pygments_lexer": "ipython3",
   "version": "3.9.5"
  },
  "orig_nbformat": 4,
  "vscode": {
   "interpreter": {
    "hash": "465f2e1c4a24a156297b6a6ca2c253a18c79c4b147019b2107a65e899380743b"
   }
  }
 },
 "nbformat": 4,
 "nbformat_minor": 2
}

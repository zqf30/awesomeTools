{
 "cells": [
  {
   "cell_type": "code",
   "execution_count": 4,
   "metadata": {},
   "outputs": [
    {
     "name": "stderr",
     "output_type": "stream",
     "text": [
      "100%|██████████| 2/2 [00:00<00:00, 210.14it/s]\n"
     ]
    }
   ],
   "source": [
    "import os\n",
    "from tqdm import *\n",
    "import xml.dom.minidom\n",
    " \n",
    "# Path of xml files folder\n",
    "xml_path = './data/Annotations'\n",
    "files = os.listdir(xml_path)\n",
    " \n",
    "gt_dict = {}\n",
    " \n",
    "if __name__ == '__main__':\n",
    " \n",
    "    for i in tqdm(range(len(files))):\n",
    "        xmlfile = os.path.join(xml_path, files[i])\n",
    "        dom = xml.dom.minidom.parse(xmlfile)  \n",
    "        root = dom.documentElement \n",
    "        filenamelist = root.getElementsByTagName(\"filename\")\n",
    "        filename = filenamelist[0].childNodes[0].data\n",
    "        objectlist = root.getElementsByTagName(\"object\")\n",
    "        ##\n",
    "        for objects in objectlist:\n",
    "            namelist = objects.getElementsByTagName(\"name\")\n",
    "            objectname = namelist[0].childNodes[0].data\n",
    "            if objectname == '-':\n",
    "                print(filename)\n",
    "            if objectname in gt_dict:\n",
    "                gt_dict[objectname] += 1\n",
    "            else:\n",
    "                gt_dict[objectname] = 1\n",
    " \n",
    "    dic = sorted(gt_dict.items(), key=lambda d: d[1], reverse=True)"
   ]
  },
  {
   "cell_type": "code",
   "execution_count": 5,
   "metadata": {},
   "outputs": [
    {
     "name": "stdout",
     "output_type": "stream",
     "text": [
      "    name        number     \n",
      "---------------------------\n",
      "    car     |     26    \n",
      "  bicycle   |     2     \n",
      "  person    |     2     \n",
      "   rider    |     1     \n"
     ]
    }
   ],
   "source": [
    "print(\"{0:<27}\".format(\"    name        number\"))\n",
    "print(\"{0:-<27}\".format(\"-\"))\n",
    "for i in range(len(dic)):\n",
    "        print(\"{0:^11} | {1:^10}\".format(*dic[i]))"
   ]
  }
 ],
 "metadata": {
  "kernelspec": {
   "display_name": "Python 3",
   "language": "python",
   "name": "python3"
  },
  "language_info": {
   "codemirror_mode": {
    "name": "ipython",
    "version": 3
   },
   "file_extension": ".py",
   "mimetype": "text/x-python",
   "name": "python",
   "nbconvert_exporter": "python",
   "pygments_lexer": "ipython3",
   "version": "3.9.5"
  },
  "orig_nbformat": 4
 },
 "nbformat": 4,
 "nbformat_minor": 2
}
